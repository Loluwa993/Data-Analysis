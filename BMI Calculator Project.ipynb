{
 "cells": [
  {
   "cell_type": "markdown",
   "id": "1f9a222d-b585-45c2-b819-27401fb260f4",
   "metadata": {},
   "source": [
    "## Project: BMI Calculator with AlexTheAnalyst Tutorial\n",
    "https://mercer-health.com/services/weight-management-center/bmi-calculator#:~:text=Body%20Mass%20Index%2C%20or%20BMI,inches%20x%20height%20in%20inches"
   ]
  },
  {
   "cell_type": "code",
   "execution_count": 4,
   "id": "80bd3cf9-d297-4391-b430-9d91ee235651",
   "metadata": {},
   "outputs": [],
   "source": [
    "#BMI = (weight in pounds x 703) / (height in inches x height in inches)"
   ]
  },
  {
   "cell_type": "code",
   "execution_count": 51,
   "id": "8a554696-e8a8-4a98-b253-a9fec3445c97",
   "metadata": {},
   "outputs": [
    {
     "name": "stdin",
     "output_type": "stream",
     "text": [
      "Enter your name:  Alex\n",
      "Enter your weight in pounds:  130\n",
      "Enter your height in inches:  68\n"
     ]
    },
    {
     "name": "stdout",
     "output_type": "stream",
     "text": [
      "BMI is:  19.764273356401382\n",
      "Alex, You are Normal weight.\n"
     ]
    }
   ],
   "source": [
    "#Taking input from user\n",
    "name = input(\"Enter your name: \")\n",
    "weight = int(input(\"Enter your weight in pounds: \"))\n",
    "\n",
    "height = int(input(\"Enter your height in inches: \"))\n",
    "\n",
    "#calculating BMI\n",
    "BMI = (weight * 703) / (height **2)\n",
    "print('BMI is: ',BMI)\n",
    "\n",
    "#information on BMI ranges\n",
    "#Under 18.5\tUnderweight\tMinimal\n",
    "#18.5 - 24.9\tNormal Weight\tMinimal\n",
    "#25 - 29.9\tOverweight\tIncreased\n",
    "#30 - 34.9\tObese\tHigh\n",
    "#35 - 39.9\tSeverely Obese\tVery High\n",
    "#40 and over\tMorbidly Obese\tExtremely High\n",
    "\n",
    "\n",
    "#presenting the user the review of the calculated BMI\n",
    "if BMI > 0:\n",
    "    if (BMI<18.5):\n",
    "        print(name + \", You are Underweight\")\n",
    "    elif (BMI<=24.9):\n",
    "        print(name + \", You are Normal weight.\")\n",
    "    elif (BMI<=29.9):\n",
    "        print(name + \", You are Overweight.\")\n",
    "    elif (BMI<=34.9):\n",
    "        print(name + \", You are Obese High.\")\n",
    "    elif (BMI<=39.9):\n",
    "        print(name + \", You are Severely Obese Very High.\")\n",
    "    else:\n",
    "        print(name + \", You are Morbidly Obese Extremely High.\")"
   ]
  },
  {
   "cell_type": "code",
   "execution_count": null,
   "id": "7c46948c-b53b-4d83-bdbb-5eaa66dbb96a",
   "metadata": {},
   "outputs": [],
   "source": []
  },
  {
   "cell_type": "markdown",
   "id": "860f533d-9b88-40f5-80ac-36245c06a5a7",
   "metadata": {
    "jp-MarkdownHeadingCollapsed": true
   },
   "source": [
    "# Code Breakdowns"
   ]
  },
  {
   "cell_type": "code",
   "execution_count": 44,
   "id": "62eaff07-8666-42fc-a256-76ffda037223",
   "metadata": {},
   "outputs": [
    {
     "name": "stdout",
     "output_type": "stream",
     "text": [
      "Alex\n",
      "170 lbs\n",
      "69 in\n"
     ]
    }
   ],
   "source": [
    "#printing received values for confirmation\n",
    "print(name)\n",
    "print (weight,'lbs')\n",
    "print (height, 'in')"
   ]
  },
  {
   "cell_type": "code",
   "execution_count": 32,
   "id": "549312f4-72ab-4e33-a263-6db5823f06b2",
   "metadata": {},
   "outputs": [
    {
     "name": "stdout",
     "output_type": "stream",
     "text": [
      "BMI is:  25.101869355177485\n"
     ]
    }
   ],
   "source": [
    "#calculating BMI\n",
    "BMI = (weight * 703) / (height **2)\n",
    "print('BMI is: ',BMI)"
   ]
  },
  {
   "cell_type": "code",
   "execution_count": null,
   "id": "cca0e12c-4ff0-4559-a82c-ee20f3e1c15d",
   "metadata": {},
   "outputs": [],
   "source": [
    "#information on BMI ranges\n",
    "\n",
    "Under 18.5\tUnderweight\tMinimal\n",
    "18.5 - 24.9\tNormal Weight\tMinimal\n",
    "25 - 29.9\tOverweight\tIncreased\n",
    "30 - 34.9\tObese\tHigh\n",
    "35 - 39.9\tSeverely Obese\tVery High\n",
    "40 and over\tMorbidly Obese\tExtremely High"
   ]
  },
  {
   "cell_type": "code",
   "execution_count": 46,
   "id": "be7934cb-129f-41fd-b34a-4a02e63efebc",
   "metadata": {},
   "outputs": [
    {
     "name": "stdout",
     "output_type": "stream",
     "text": [
      "Alex, You are Overweight.\n"
     ]
    }
   ],
   "source": [
    "#presenting the user the review of the calculated BMI\n",
    "if BMI > 0:\n",
    "    if (BMI<18.5):\n",
    "        print(name + \", You are Underweight.\")\n",
    "    elif (BMI<=24.9):\n",
    "        print(name + \", You are Normal weight.\")\n",
    "    elif (BMI<=29.9):\n",
    "        print(name + \", You are Overweight.\")\n",
    "    elif (BMI<=34.9):\n",
    "        print(name + \", You are Obese High.\")\n",
    "    elif (BMI<=39.9):\n",
    "        print(name + \", You are Severely Obese Very High.\")\n",
    "    else:\n",
    "        print(name + \", You are Morbidly Obese Extremely High.\")"
   ]
  },
  {
   "cell_type": "code",
   "execution_count": null,
   "id": "d920c0e9-32b4-4c67-ae4b-9b05ab43d402",
   "metadata": {},
   "outputs": [],
   "source": []
  },
  {
   "cell_type": "code",
   "execution_count": null,
   "id": "d2b025d9-1f03-49a9-938a-1ac25110308b",
   "metadata": {},
   "outputs": [],
   "source": []
  },
  {
   "cell_type": "code",
   "execution_count": null,
   "id": "1535c7be-dbe4-4a4f-b0ea-a0d0130b8328",
   "metadata": {},
   "outputs": [],
   "source": []
  }
 ],
 "metadata": {
  "kernelspec": {
   "display_name": "Python [conda env:base] *",
   "language": "python",
   "name": "conda-base-py"
  },
  "language_info": {
   "codemirror_mode": {
    "name": "ipython",
    "version": 3
   },
   "file_extension": ".py",
   "mimetype": "text/x-python",
   "name": "python",
   "nbconvert_exporter": "python",
   "pygments_lexer": "ipython3",
   "version": "3.12.7"
  }
 },
 "nbformat": 4,
 "nbformat_minor": 5
}
